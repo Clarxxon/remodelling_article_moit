{
 "cells": [
  {
   "cell_type": "code",
   "execution_count": 1,
   "id": "c475b20d-2db4-40f2-a809-cc7cbf5c6794",
   "metadata": {},
   "outputs": [
    {
     "name": "stdout",
     "output_type": "stream",
     "text": [
      "Epoch 1/1000, Loss: 5.6297\n",
      "Epoch 101/1000, Loss: 0.7104\n",
      "Epoch 201/1000, Loss: 0.5953\n",
      "Epoch 301/1000, Loss: 0.5732\n",
      "Epoch 401/1000, Loss: 0.5584\n",
      "Epoch 501/1000, Loss: 0.5477\n",
      "Epoch 601/1000, Loss: 0.5398\n",
      "Epoch 701/1000, Loss: 0.5341\n",
      "Epoch 801/1000, Loss: 0.5299\n",
      "Epoch 901/1000, Loss: 0.5269\n",
      "Mean Squared Error (MSE): 0.5546\n",
      "R-squared (R²): 0.5768\n",
      "\n",
      "Coefficients (Theta):\n",
      "Feature 1: 0.8581\n",
      "Feature 2: 0.1502\n",
      "Feature 3: -0.2525\n",
      "Feature 4: 0.2810\n",
      "Feature 5: 0.0071\n",
      "Feature 6: -0.0434\n",
      "Feature 7: -0.6832\n",
      "Feature 8: -0.6542\n",
      "Intercept (b): 2.0719\n"
     ]
    },
    {
     "data": {
      "image/png": "[encoded data removed]",
      "text/plain": [
       "<Figure size 640x480 with 1 Axes>"
      ]
     },
     "metadata": {},
     "output_type": "display_data"
    }
   ],
   "source": [
    "import numpy as np\n",
    "from sklearn.datasets import fetch_california_housing\n",
    "from sklearn.model_selection import train_test_split\n",
    "from sklearn.metrics import mean_squared_error, r2_score\n",
    "import matplotlib.pyplot as plt\n",
    "from sklearn.preprocessing import StandardScaler\n",
    "\n",
    "# Загружаем данные California Housing\n",
    "data = fetch_california_housing()\n",
    "\n",
    "# Признаки (X) и целевая переменная (y)\n",
    "X = data.data\n",
    "y = data.target\n",
    "\n",
    "# Разделяем данные на обучающую и тестовую выборки (80% для обучения и 20% для тестирования)\n",
    "X_train, X_test, y_train, y_test = train_test_split(X, y, test_size=0.2, random_state=42)\n",
    "\n",
    "# Масштабируем данные (нормализация) для улучшения сходимости градиентного спуска\n",
    "scaler = StandardScaler()\n",
    "X_train = scaler.fit_transform(X_train)\n",
    "X_test = scaler.transform(X_test)\n",
    "\n",
    "# Добавим столбец единичных значений для смещения (b)\n",
    "X_train = np.c_[np.ones(X_train.shape[0]), X_train]  # добавляем столбец единичных значений\n",
    "X_test = np.c_[np.ones(X_test.shape[0]), X_test]    # добавляем столбец единичных значений\n",
    "\n",
    "# Градиентный спуск для линейной регрессии\n",
    "def gradient_descent(X, y, learning_rate=0.01, epochs=1000):\n",
    "    m, n = X.shape  # m - количество примеров, n - количество признаков\n",
    "    theta = np.zeros(n)  # Инициализация параметров (включая смещение)\n",
    "\n",
    "    # История потерь для визуализации\n",
    "    loss_history = []\n",
    "\n",
    "    # Алгоритм градиентного спуска\n",
    "    for epoch in range(epochs):\n",
    "        # Прогнозы модели\n",
    "        predictions = X.dot(theta)\n",
    "\n",
    "        # Ошибка (разница между предсказанными и реальными значениями)\n",
    "        error = predictions - y\n",
    "\n",
    "        # Вычисление градиентов\n",
    "        gradient = (2 / m) * X.T.dot(error)\n",
    "\n",
    "        # Обновление параметров (theta)\n",
    "        theta -= learning_rate * gradient\n",
    "\n",
    "        # Вычисление потерь (MSE)\n",
    "        loss = (1 / m) * np.sum(error ** 2)\n",
    "        loss_history.append(loss)\n",
    "\n",
    "        # Каждые 100 эпох выводим потери\n",
    "        if epoch % 100 == 0:\n",
    "            print(f\"Epoch {epoch+1}/{epochs}, Loss: {loss:.4f}\")\n",
    "\n",
    "    return theta, loss_history\n",
    "\n",
    "# Обучаем модель с использованием градиентного спуска\n",
    "theta, loss_history = gradient_descent(X_train, y_train, learning_rate=0.01, epochs=1000)\n",
    "\n",
    "# Предсказания на тестовых данных\n",
    "y_pred = X_test.dot(theta)\n",
    "\n",
    "# Оценка модели с использованием метрик\n",
    "mse = mean_squared_error(y_test, y_pred)\n",
    "r2 = r2_score(y_test, y_pred)\n",
    "\n",
    "print(f\"Mean Squared Error (MSE): {mse:.4f}\")\n",
    "print(f\"R-squared (R²): {r2:.4f}\")\n",
    "\n",
    "# Выводим коэффициенты модели\n",
    "print(\"\\nCoefficients (Theta):\")\n",
    "for i, coef in enumerate(theta[1:]):  # Пропускаем смещение (первый элемент)\n",
    "    print(f\"Feature {i+1}: {coef:.4f}\")\n",
    "print(f\"Intercept (b): {theta[0]:.4f}\")\n",
    "\n",
    "# Визуализация потерь в процессе обучения\n",
    "plt.plot(loss_history)\n",
    "plt.xlabel('Epochs')\n",
    "plt.ylabel('Loss (MSE)')\n",
    "plt.title('Training Loss (MSE) over Epochs')\n",
    "plt.grid(True)\n",
    "plt.show()\n"
   ]
  },
  {
   "cell_type": "code",
   "execution_count": 2,
   "id": "9cf6090a-234f-4576-81be-50233116e105",
   "metadata": {},
   "outputs": [
    {
     "data": {
      "text/plain": [
       "array([ 0.8580605 ,  0.1501549 , -0.25253771,  0.28100715,  0.00710958,\n",
       "       -0.04344213, -0.68321834, -0.65415242])"
      ]
     },
     "execution_count": 2,
     "metadata": {},
     "output_type": "execute_result"
    }
   ],
   "source": [
    "theta[1:]"
   ]
  },
  {
   "cell_type": "code",
   "execution_count": null,
   "id": "c096f628-d687-4240-86d7-c600139e42bf",
   "metadata": {},
   "outputs": [],
   "source": []
  }
 ],
 "metadata": {
  "kernelspec": {
   "display_name": "Python 3 (ipykernel)",
   "language": "python",
   "name": "python3"
  },
  "language_info": {
   "codemirror_mode": {
    "name": "ipython",
    "version": 3
   },
   "file_extension": ".py",
   "mimetype": "text/x-python",
   "name": "python",
   "nbconvert_exporter": "python",
   "pygments_lexer": "ipython3",
   "version": "3.12.7"
  }
 },
 "nbformat": 4,
 "nbformat_minor": 5
}
